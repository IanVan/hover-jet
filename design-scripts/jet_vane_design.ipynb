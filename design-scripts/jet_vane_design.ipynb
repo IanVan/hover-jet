{
 "cells": [
  {
   "cell_type": "markdown",
   "metadata": {},
   "source": [
    "# Jet Vane Unit Design Document\n",
    "Design calculations for the hover-jet jet vane actuator unit\n"
   ]
  },
  {
   "cell_type": "code",
   "execution_count": 1,
   "metadata": {},
   "outputs": [
    {
     "name": "stdout",
     "output_type": "stream",
     "text": [
      "hello\n"
     ]
    }
   ],
   "source": [
    "import numpy as np\n",
    "import pint\n",
    "ureg = pint.UnitRegistry()\n",
    "print('hello')"
   ]
  },
  {
   "cell_type": "markdown",
   "metadata": {},
   "source": [
    "## Requirements and variables flow\n",
    "Required moment on vehicle drives jet vane size\n",
    "TODO\n",
    "\n",
    "## Assumptions\n",
    "\n"
   ]
  },
  {
   "cell_type": "code",
   "execution_count": 2,
   "metadata": {},
   "outputs": [],
   "source": [
    "r_v = 0.2 * ureg.m   # Vane distance from vehicle center of mass"
   ]
  },
  {
   "cell_type": "markdown",
   "metadata": {},
   "source": [
    "\n",
    "## Required moment on vehicle\n",
    "### Required moment on vehicle: angular acceleration\n",
    "TODO\n",
    "\n",
    "### Required moment on vehicle: center of mass misalignment\n",
    "TODO"
   ]
  },
  {
   "cell_type": "code",
   "execution_count": 3,
   "metadata": {},
   "outputs": [
    {
     "name": "stdout",
     "output_type": "stream",
     "text": [
      "Control force F_ctrl = 8.0 N\n"
     ]
    }
   ],
   "source": [
    "r_T = 10 * ureg.mm    # Thrust / com misalignment\n",
    "F_T = 160 * ureg.N    # Thrust force\n",
    "\n",
    "# Required control force to compensate for com misalignment\n",
    "F_ctrl = F_T  * r_T / r_v\n",
    "F_ctrl.ito(ureg.N)\n",
    "print('Control force F_ctrl = {:~P}'.format(F_ctrl))"
   ]
  },
  {
   "cell_type": "markdown",
   "metadata": {},
   "source": [
    "## Jet flow properties\n",
    "TODO\n"
   ]
  },
  {
   "cell_type": "code",
   "execution_count": 4,
   "metadata": {},
   "outputs": [
    {
     "name": "stdout",
     "output_type": "stream",
     "text": [
      "Exhaust gas density rho_e = 0.39 kg / m ** 3\n",
      "Exit Mach number, full throttle = 0.78\n"
     ]
    }
   ],
   "source": [
    "T_e = 900 * ureg.K    # Exhaust exit temperature\n",
    "p_e = 100 * ureg.kPa   # Exhaust exit pressure\n",
    "R_e = 287 * ureg.J / ureg.kg / ureg.K   # Gas constant\n",
    "rho_e = p_e / (R_e * T_e)\n",
    "rho_e.ito(ureg.kg * ureg.m**-3)   # Exhaust density\n",
    "v_e_full_throttle = 442 * ureg.m / ureg.s   # Exhaust gas velocity at full throttle\n",
    "gamma = 1.25    # Ratio of specific heats\n",
    "sonic_e = (gamma * R_e * T_e)**0.5\n",
    "sonic_e.ito(ureg.m / ureg.s)\n",
    "\n",
    "print('Exhaust gas density rho_e = {:~P.2}'.format(rho_e))\n",
    "print('Exit Mach number, full throttle = {:~P.2}'.format(v_e_full_throttle / sonic_e))\n"
   ]
  },
  {
   "cell_type": "markdown",
   "metadata": {},
   "source": [
    "## Jet vane size\n",
    "Let's try to achieve the full desired contorl authority at $1/2$ the full-throttle $v_e$ (roughly 1/4 throttle). Keep the jet vane angle of attack $\\alpha$ to be 6 degrees at most.\n",
    "\n",
    "First, we need a model for how the lift coefficient of the vane varies with angle of attack. The basic model for a thin symmetric airfiol is:\n",
    "\n",
    "\\begin{equation}\n",
    "C_L = 2 \\pi \\alpha\n",
    "\\end{equation}\n",
    "\n",
    "Note that this model is imperfect, the sources of error include:\n",
    " - This model assumes a 2-d airfoil, but the vanes will have finite span (and low aspect ratio) so there will be 3d flow effects.\n",
    " - This model assumes incompressible flow, but the exhaust jet will have a high Mach number (~0.8 at full throttle) so there will be compressibility effects.\n",
    " - There will be flow interactions between:\n",
    "   * a vane and the wall the vane is mounted through (this will \"mirror\" the flow and reduce the vane's low asptect ratio penalty)\n",
    "   * a vane and the other vanes (this will induce weird couplings and non-linearities)\n",
    " - The vanes will not operate in a clean flow. There will probably be some swirl and velocity non-uniformity in the jet exhaust. The amout of swirl may be different at different throttle settings.\n",
    " - This model assumes steady flow - it won't be valid if the vanes are moving rapidly\n",
    "There are correction formulas for some of these effects in certain circumstances, but I don't think they are worth taking into account here. We should just press forward with the simple model and realize it's rough.\n",
    "\n",
    "The required vane force is\n",
    "\n",
    "\\begin{equation}\n",
    "\\frac{F_{ctrl}}{2} = F_v = \\frac{1}{2} \\rho_e v_e^2 C_L S_v\n",
    "\\end{equation}\n",
    "\n",
    "where $S_v$ is the vane reference area and the lefthand side is divided by 2 because there are 2 vanes per axis.\n"
   ]
  },
  {
   "cell_type": "code",
   "execution_count": 5,
   "metadata": {},
   "outputs": [
    {
     "name": "stdout",
     "output_type": "stream",
     "text": [
      "Jet vane lift coeff C_L = 0.66\n",
      "Jet vane effective area, minimum for control S_v_min = 0.00016 m ** 2\n",
      "Jet vane span b_v = 14.6 mm\n"
     ]
    }
   ],
   "source": [
    "# Throttle setting adjustment\n",
    "throttle = 0.25   # Throttle setting at which to size vanes\n",
    "# rough approx. - changing throttle would also change exhuast gas temperature and thus density\n",
    "v_e = v_e_full_throttle * (throttle)**0.5   # Exit velocity at throttle setting\n",
    "M_e = v_e / sonic_e   # Exit mach number at throttle setting\n",
    "F_ctrl = F_T * throttle * r_T / r_v  # required vane force due to cm misalign\n",
    "\n",
    "\n",
    "A_R = 1.33   # Jet vane aspect ratio\n",
    "alpha = np.deg2rad(6)\n",
    "\n",
    "# jet vane lift coeff\n",
    "C_L = 2 * np.pi * alpha\n",
    "print('Jet vane lift coeff C_L = {:.2f}'.format(C_L))\n",
    "\n",
    "# Jet vane effective area - minimum viable area for control\n",
    "S_v_min = F_ctrl / (rho_e * v_e**2 * C_L)\n",
    "S_v_min.ito(ureg.m**2)\n",
    "print('Jet vane effective area, minimum for control S_v_min = {:~P.2}'.format(S_v_min))\n",
    "\n",
    "# jet vane span\n",
    "b_v = (A_R * S_v_min)**0.5\n",
    "b_v.ito(ureg.m)\n",
    "print('Jet vane span b_v = {:~P.3}'.format(b_v.to(ureg.mm)))\n",
    "\n",
    "# Jet vane span sanity check\n",
    "b_v_max = 20 * ureg.mm   # Max possible vane (effective) span, a little less than the engine nozzle exit radius\n",
    "if b_v > b_v_max:\n",
    "    print('Vane span is too big!')"
   ]
  },
  {
   "cell_type": "markdown",
   "metadata": {},
   "source": [
    "Let's be conservative and use a larger vane, with a 20 x 15 mm effective area in the flow:"
   ]
  },
  {
   "cell_type": "code",
   "execution_count": 6,
   "metadata": {},
   "outputs": [
    {
     "name": "stdout",
     "output_type": "stream",
     "text": [
      "Vane area margin S_v / S_v_min = 2.49 dimensionless\n"
     ]
    }
   ],
   "source": [
    "b_v = 20 * ureg.mm    # Vane span\n",
    "c_v = 20 * ureg.mm    # Vane chord\n",
    "S_v = b_v * c_v    # Vane effective area\n",
    "S_v.ito(ureg.m**2)\n",
    "print('Vane area margin S_v / S_v_min = {:.2f}'.format(S_v / S_v_min))"
   ]
  },
  {
   "cell_type": "markdown",
   "metadata": {},
   "source": [
    "## Jet vane timescale\n",
    "When the angle of attack of an airfoil is changed, it takes some time for the flow to adjust. For our lift model to be valid, the timescale on which we control the vane rotation should be longer than the timescale for flow over the vane. The vane flow timescale is roughly:\n",
    "\n",
    "\\begin{equation}\n",
    "\\tau_{flow} = \\frac{c_v}{v_e}\n",
    "\\end{equation}\n",
    "\n",
    "The following calculation shows that the vane timescale is much faster than our control loop, so we don't need to worry about this."
   ]
  },
  {
   "cell_type": "code",
   "execution_count": 7,
   "metadata": {},
   "outputs": [
    {
     "name": "stdout",
     "output_type": "stream",
     "text": [
      "Vane flow timescale = 0.09 ms\n"
     ]
    }
   ],
   "source": [
    "# Vane flow timescale\n",
    "flow_timescale = c_v / v_e\n",
    "flow_timescale.ito(ureg.ms)\n",
    "print('Vane flow timescale = {:~P.2}'.format(flow_timescale))"
   ]
  },
  {
   "cell_type": "markdown",
   "metadata": {},
   "source": [
    "## Jet vane drag\n",
    "The drag coefficient is predicted to be:\n",
    "\n",
    "\\begin{equation}\n",
    "C_D = C_{D0} + k C_L^2 = C_{D0} + 4 \\pi^2 k \\alpha^2\n",
    "\\end{equation}\n",
    "\n",
    "According to lifting line theory, $k = 1 / (\\pi A_R)$ - for our purposes let's assume $k = 1/3$. $C_{D0}$ is the minimum/profile drag coefficient - let's assume $C_{D0} = 0.05$. We will also include a Prandtl-Glauert correction term to account for the increase of drag at high mach numbers:\n",
    "\n",
    "\\begin{equation}\n",
    "C_D = C_{D0} + \\frac{4 \\pi^2 k \\alpha^2}{\\sqrt{1 - M_e^2}}\n",
    "\\end{equation}\n"
   ]
  },
  {
   "cell_type": "code",
   "execution_count": 8,
   "metadata": {},
   "outputs": [
    {
     "name": "stdout",
     "output_type": "stream",
     "text": [
      "Vane lift force L = 1e+01 N\n",
      "Vane drag force D = 4.2 N\n",
      "Vane L/D = 2.35 dimensionless\n"
     ]
    }
   ],
   "source": [
    "# Conditions at which to compute vane drag\n",
    "v_e = v_e_full_throttle\n",
    "M_e = v_e / sonic_e\n",
    "alpha = np.deg2rad(6)    # vane angle of attack\n",
    "\n",
    "# Drag model parameters\n",
    "C_D0 = 0.05    # Minimum drag coeff\n",
    "k = 1/3.    # Induced drag coefficient\n",
    "\n",
    "C_L = 2 * np.pi * alpha\n",
    "C_D = C_D0 + (k * C_L**2) / (1 - M_e**2)**0.5\n",
    "\n",
    "L = 0.5 * rho_e * v_e**2 * C_L * S_v\n",
    "D = 0.5 * rho_e * v_e**2 * C_D * S_v\n",
    "L.ito(ureg.N)\n",
    "D.ito(ureg.N)\n",
    "print('Vane lift force L = {:~P.2}'.format(L))\n",
    "print('Vane drag force D = {:~P.2}'.format(D))\n",
    "print('Vane L/D = {:.2f}'.format(L/D))"
   ]
  },
  {
   "cell_type": "markdown",
   "metadata": {},
   "source": [
    "## Jet vane actuator torque\n",
    "The jet vane actuator must supply enough torque to overcome 1) the aerodynamic moment on the vane $M_a$ and 2) the friction moment from the bearing $M_f$. Thus:\n",
    "\n",
    "\\begin{equation}\n",
    "\\tau_{act} = M_a + M_f\n",
    "\\end{equation}\n",
    "\n",
    "The aerodyamic moment can be reduced by mounting the vane at its center of pressure, about which their should be no aerodynamic moment. For thin symmetric airfoils, this is $c/4$ from the leading edge; this point is also the aerodynamic center so the moment should not change with angle of attack. Practically, there may still be some moment due to swirl in the flow, weirdness at high Mach number, interaction effects, etc. To account for this, we will assume a moment coefficient of $C_M = 0.1$.\n",
    "\n",
    "\\begin{equation}\n",
    "M_a = \\frac{1}{2} \\rho_e v_e^2 C_M c_v^2 b_v\n",
    "\\end{equation}\n",
    "\n",
    "the bearing friction moment is\n",
    "\\begin{equation}\n",
    "M_f = \\mu r_{shaft} F_v\n",
    "\\end{equation}\n",
    "\n",
    "where $\\mu$ is the bearing/shaft friction coefficient, $r_{shaft}$ is the shaft radius and $F_v$ is the side load on the shaft."
   ]
  },
  {
   "cell_type": "code",
   "execution_count": 9,
   "metadata": {},
   "outputs": [
    {
     "name": "stdout",
     "output_type": "stream",
     "text": [
      "Aero moment M_a = 0.03 N * m\n",
      "Friction moment M_f = 0.01 N * m\n",
      "Min. acceptable motor toque > 0.16 N * m (23.0 in * ozf)\n"
     ]
    }
   ],
   "source": [
    "C_M = 0.1   # Aerodynamic moment coefficient\n",
    "mu_bearing = 0.3    # Bearing friciton coefficient\n",
    "r_shaft = 1/8. * ureg.inch   # Shaft radius\n",
    "F_v = (L**2 + D**2)**0.5   # Shaft load\n",
    "\n",
    "# Aerodynamic moment\n",
    "M_a = 0.5 * rho_e * v_e**2 * C_M * c_v**2 * b_v\n",
    "M_a.ito(ureg.N * ureg.m)\n",
    "print('Aero moment M_a = {:~P.2}'.format(M_a))\n",
    "\n",
    "# Bearing friction moment\n",
    "M_f = mu_bearing * r_shaft * F_v\n",
    "M_f.ito(ureg.N * ureg.m)\n",
    "print('Friction moment M_f = {:~P.2}'.format(M_f))\n",
    "\n",
    "# Torque margin\n",
    "torque_margin = 4.\n",
    "motor_torque = torque_margin * (M_a + M_f)\n",
    "print('Min. acceptable motor toque > {:~P.2} ({:~P.3})'.format(motor_torque, motor_torque.to(ureg.ozf * ureg.inch)))"
   ]
  }
 ],
 "metadata": {
  "kernelspec": {
   "display_name": "Python 3",
   "language": "python",
   "name": "python3"
  },
  "language_info": {
   "codemirror_mode": {
    "name": "ipython",
    "version": 3
   },
   "file_extension": ".py",
   "mimetype": "text/x-python",
   "name": "python",
   "nbconvert_exporter": "python",
   "pygments_lexer": "ipython3",
   "version": "3.7.0"
  }
 },
 "nbformat": 4,
 "nbformat_minor": 2
}
