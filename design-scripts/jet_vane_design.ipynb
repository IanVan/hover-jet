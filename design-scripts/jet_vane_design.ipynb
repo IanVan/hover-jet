{
 "cells": [
  {
   "cell_type": "markdown",
   "metadata": {},
   "source": [
    "# Jet Vane Unit Design Document\n",
    "Design calculations for the hover-jet jet vane actuator unit\n"
   ]
  },
  {
   "cell_type": "code",
   "execution_count": 1,
   "metadata": {},
   "outputs": [
    {
     "name": "stdout",
     "output_type": "stream",
     "text": [
      "hello\n"
     ]
    }
   ],
   "source": [
    "import numpy as np\n",
    "import pint\n",
    "ureg = pint.UnitRegistry()\n",
    "print('hello')"
   ]
  },
  {
   "cell_type": "markdown",
   "metadata": {},
   "source": [
    "## Requirements and variables flow\n",
    "Required moment on vehicle drives jet vane size\n",
    "TODO\n",
    "\n",
    "## Assumptions\n",
    "\n"
   ]
  },
  {
   "cell_type": "code",
   "execution_count": 2,
   "metadata": {},
   "outputs": [],
   "source": [
    "r_v = 0.2 * ureg.m   # Vane distance from vehicle center of mass"
   ]
  },
  {
   "cell_type": "markdown",
   "metadata": {},
   "source": [
    "\n",
    "## Required moment on vehicle\n",
    "### Required moment on vehicle: angular acceleration\n",
    "TODO\n",
    "\n",
    "### Required moment on vehicle: center of mass misalignment\n",
    "TODO"
   ]
  },
  {
   "cell_type": "code",
   "execution_count": 3,
   "metadata": {},
   "outputs": [
    {
     "name": "stdout",
     "output_type": "stream",
     "text": [
      "Vane force F_v = 4.0 N\n"
     ]
    }
   ],
   "source": [
    "r_T = 5 * ureg.mm    # Thrust / com misalignment\n",
    "F_T = 160 * ureg.N    # Thrust force\n",
    "\n",
    "# Required vane force to compensate for com misalignment\n",
    "F_v = F_T  * r_T / r_v\n",
    "F_v.ito(ureg.N)\n",
    "print('Vane force F_v = {:~P}'.format(F_v))"
   ]
  },
  {
   "cell_type": "markdown",
   "metadata": {},
   "source": [
    "## Jet flow properties\n",
    "TODO\n"
   ]
  },
  {
   "cell_type": "code",
   "execution_count": 4,
   "metadata": {},
   "outputs": [
    {
     "name": "stdout",
     "output_type": "stream",
     "text": [
      "Exhaust gas density rho_e = 0.39 kg / m ** 3\n",
      "Exit Mach number, full throttle = 0.78\n"
     ]
    }
   ],
   "source": [
    "T_e = 900 * ureg.K    # Exhaust exit temperature\n",
    "p_e = 100 * ureg.kPa   # Exhaust exit pressure\n",
    "R_e = 287 * ureg.J / ureg.kg / ureg.K   # Gas constant\n",
    "rho_e = p_e / (R_e * T_e)\n",
    "rho_e.ito(ureg.kg * ureg.m**-3)   # Exhaust density\n",
    "v_e_full_throttle = 442 * ureg.m / ureg.s   # Exhaust gas velocity at full throttle\n",
    "gamma = 1.25    # Ratio of specific heats\n",
    "sonic_e = (gamma * R_e * T_e)**0.5\n",
    "sonic_e.ito(ureg.m / ureg.s)\n",
    "\n",
    "print('Exhaust gas density rho_e = {:~P.2}'.format(rho_e))\n",
    "print('Exit Mach number, full throttle = {:~P.2}'.format(v_e_full_throttle / sonic_e))\n"
   ]
  },
  {
   "cell_type": "markdown",
   "metadata": {},
   "source": [
    "## Jet vane size\n",
    "Let's try to achieve the full desired contorl authority at $1/2$ the full-throttle $v_e$ (roughly 1/4 throttle). Keep the jet vane angle of attack $\\alpha$ to be 6 degrees at most.\n",
    "\n",
    "For a wing with thin, symmetric airfoil, the lift coefficient is (including compressiblity and finite span corrections) (see  [vt AOE3104 notes](http://www.dept.aoe.vt.edu/~lutze/AOE3104/airfoilwings.pdf)):\n",
    "\n",
    "\\begin{equation}\n",
    "C_L = \\frac{2 \\pi A_R^2}{2 + \\sqrt{A_R^2 (1-M^2) +4}} \\alpha\n",
    "\\end{equation}\n",
    "\n",
    "where $A_R$ is the aspect ratio. The required vane force is\n",
    "\n",
    "\\begin{equation}\n",
    "\\frac{F_v}{2} = \\frac{1}{2} \\rho_e v_e^2 C_L S_v\n",
    "\\end{equation}\n",
    "\n",
    "where $S_v$ is the vane reference area and the lefthand side is divided by 2 because there are 2 vanes per axis.\n"
   ]
  },
  {
   "cell_type": "code",
   "execution_count": 14,
   "metadata": {},
   "outputs": [
    {
     "name": "stdout",
     "output_type": "stream",
     "text": [
      "Jet vane lift coeff C_L = 0.28 dimensionless\n",
      "Jet vane area S_v = 0.00019 m ** 2\n",
      "jet vane span b_v = 19.5 mm\n"
     ]
    }
   ],
   "source": [
    "# Throttle setting adjustment\n",
    "throttle = 0.25   # Throttle setting at which to size vanes\n",
    "# rough approx. - changing throttle would also change exhuast gas temperature and thus density\n",
    "v_e = v_e_full_throttle * (throttle)**0.5   # Exit velocity at throttle setting\n",
    "M_e = v_e / sonic_e   # Exit mach number at throttle setting\n",
    "F_v = F_T * throttle * r_T / r_v  # required vane force due to cm misalign\n",
    "\n",
    "\n",
    "A_R = 2   # Jet vane aspect ratio\n",
    "alpha = np.deg2rad(6)\n",
    "\n",
    "# jet vane lift coeff\n",
    "C_L = 2 * np.pi * A_R / (2 + (A_R**2 * (1 - M_e**2) + 4)**0.5) * alpha\n",
    "print('Jet vane lift coeff C_L = {:.2f}'.format(C_L))\n",
    "\n",
    "# Jet vane area\n",
    "S_v = F_v / (rho_e * v_e**2 * C_L)\n",
    "S_v.ito(ureg.m**2)\n",
    "print('Jet vane area S_v = {:~P.2}'.format(S_v))\n",
    "\n",
    "# jet vane span\n",
    "b_v = (A_R * S_v)**0.5\n",
    "b_v.ito(ureg.m)\n",
    "print('jet vane span b_v = {:~P.3}'.format(b_v.to(ureg.mm)))\n",
    "\n",
    "# Jet vane span sanity check\n",
    "b_v_max = 20 * ureg.mm   # Max possible vane (effective) span, a little less than the engine nozzle exit radius\n",
    "if b_v > b_v_max:\n",
    "    print('Vane span is too big!')"
   ]
  }
 ],
 "metadata": {
  "kernelspec": {
   "display_name": "Python 3",
   "language": "python",
   "name": "python3"
  },
  "language_info": {
   "codemirror_mode": {
    "name": "ipython",
    "version": 3
   },
   "file_extension": ".py",
   "mimetype": "text/x-python",
   "name": "python",
   "nbconvert_exporter": "python",
   "pygments_lexer": "ipython3",
   "version": "3.7.0"
  }
 },
 "nbformat": 4,
 "nbformat_minor": 2
}
